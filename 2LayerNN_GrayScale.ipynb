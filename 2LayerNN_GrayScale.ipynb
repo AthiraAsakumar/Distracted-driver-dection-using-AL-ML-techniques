{
 "cells": [
  {
   "cell_type": "code",
   "execution_count": null,
   "metadata": {},
   "outputs": [],
   "source": [
    "import tensorflow as tf\n",
    "from tensorflow import keras\n",
    "import numpy as np\n",
    "import pandas as pd\n",
    "import matplotlib.pyplot as plt\n",
    "from sklearn.model_selection import train_test_split"
   ]
  },
  {
   "cell_type": "code",
   "execution_count": 2,
   "metadata": {},
   "outputs": [],
   "source": [
    "row=64\n",
    "col=64\n",
    "mydata = pd.read_csv(r\"D:/athira/Courses/MS WPI/Fall'19/ML/Project_Distracted Driver Detection/Code/2 NN/train_gray_64x64.csv\",header = None)\n"
   ]
  },
  {
   "cell_type": "code",
   "execution_count": 3,
   "metadata": {},
   "outputs": [],
   "source": [
    "Input = mydata.iloc[0:,:-1].values/255.0\n",
    "Label = mydata.iloc[0:,-1].values\n",
    "for i in range(len(Label)):\n",
    "    Label[i] = int(Label[i][1])"
   ]
  },
  {
   "cell_type": "code",
   "execution_count": 4,
   "metadata": {},
   "outputs": [],
   "source": [
    "X=Input.copy()\n",
    "Y=Label.copy()"
   ]
  },
  {
   "cell_type": "code",
   "execution_count": 5,
   "metadata": {},
   "outputs": [],
   "source": [
    "X = np.array(list(x for x in X))\n",
    "Y = np.array(list(x for x in Y))"
   ]
  },
  {
   "cell_type": "code",
   "execution_count": 6,
   "metadata": {},
   "outputs": [
    {
     "name": "stdout",
     "output_type": "stream",
     "text": [
      "[0 0 0 0 0]\n",
      "(22424,)\n",
      "(22424, 4096)\n",
      "[0.17254902 0.16862745 0.17647059 ... 0.04313725 0.46666667 0.05098039]\n",
      "[[0.17254902 0.16862745 0.17647059 ... 0.04313725 0.46666667 0.05098039]\n",
      " [0.10196078 0.11764706 0.12156863 ... 0.04313725 0.03137255 0.03137255]\n",
      " [0.16470588 0.19607843 0.2        ... 0.08627451 0.08235294 0.10980392]]\n"
     ]
    },
    {
     "data": {
      "text/plain": [
       "(numpy.ndarray, numpy.ndarray)"
      ]
     },
     "execution_count": 6,
     "metadata": {},
     "output_type": "execute_result"
    }
   ],
   "source": [
    "print(Y[0:5])\n",
    "Y=Y.T\n",
    "print(Y.shape)\n",
    "print(X.shape)\n",
    "print(X[0])\n",
    "print(X[0:3])\n",
    "type(X), type(Y)"
   ]
  },
  {
   "cell_type": "code",
   "execution_count": 7,
   "metadata": {},
   "outputs": [],
   "source": [
    "X_train,X_test,Y_train,Y_test = train_test_split(X,Y,test_size = 0.2,random_state = 50)\n",
    "\n",
    "# X_train = X_train.reshape(X_train.shape[0],row,col)\n",
    "# X_test = X_test.reshape(X_test.shape[0],row,col)\n",
    "# print(X_train.shape)\n",
    "# print(X_test.shape)\n",
    "\n",
    "#class_names = ['c0','c1','c2','c3','c4','c5','c6','c7','c8','c9']\n",
    "class_names = [0,1,2,3,4,5,6,7,8,9]"
   ]
  },
  {
   "cell_type": "code",
   "execution_count": 8,
   "metadata": {},
   "outputs": [
    {
     "name": "stdout",
     "output_type": "stream",
     "text": [
      "[0 4 0 7 7]\n"
     ]
    },
    {
     "data": {
      "text/plain": [
       "(numpy.ndarray, numpy.ndarray, numpy.ndarray, numpy.ndarray)"
      ]
     },
     "execution_count": 8,
     "metadata": {},
     "output_type": "execute_result"
    }
   ],
   "source": [
    "print(Y_train[0:5])\n",
    "type(X_train), type(Y_train), type(X_test), type(Y_test)"
   ]
  },
  {
   "cell_type": "code",
   "execution_count": 9,
   "metadata": {},
   "outputs": [],
   "source": [
    "model = keras.Sequential([keras.layers.Flatten(),\n",
    "                          keras.layers.Dense(256, activation=tf.nn.relu),\n",
    "                          keras.layers.Dense(128, activation=tf.nn.relu),\n",
    "                          keras.layers.Dense(10, activation=tf.nn.softmax)])\n",
    "model.compile(optimizer='adam',loss='sparse_categorical_crossentropy',metrics=['accuracy'])"
   ]
  },
  {
   "cell_type": "code",
   "execution_count": 10,
   "metadata": {},
   "outputs": [
    {
     "name": "stdout",
     "output_type": "stream",
     "text": [
      "Epoch 1/10\n",
      "17939/17939 [==============================] - 23s 1ms/step - loss: 1.2769 - acc: 0.5702\n",
      "Epoch 2/10\n",
      "17939/17939 [==============================] - 19s 1ms/step - loss: 0.3523 - acc: 0.9001\n",
      "Epoch 3/10\n",
      "17939/17939 [==============================] - 19s 1ms/step - loss: 0.1937 - acc: 0.9434\n",
      "Epoch 4/10\n",
      "17939/17939 [==============================] - 19s 1ms/step - loss: 0.1415 - acc: 0.9561\n",
      "Epoch 5/10\n",
      "17939/17939 [==============================] - 19s 1ms/step - loss: 0.1055 - acc: 0.9682\n",
      "Epoch 6/10\n",
      "17939/17939 [==============================] - 22s 1ms/step - loss: 0.0958 - acc: 0.9705\n",
      "Epoch 7/10\n",
      "17939/17939 [==============================] - 19s 1ms/step - loss: 0.0759 - acc: 0.9762: 4s - loss: 0.0577 - acc - ETA: 3s - loss: 0.0596 - acc: 0.98 - ETA: 3s - loss: 0.0598 - ETA: 2s - loss: 0.07 - ETA: 1s - loss\n",
      "Epoch 8/10\n",
      "17939/17939 [==============================] - 19s 1ms/step - loss: 0.0662 - acc: 0.9771\n",
      "Epoch 9/10\n",
      "17939/17939 [==============================] - 18s 1ms/step - loss: 0.0579 - acc: 0.9814\n",
      "Epoch 10/10\n",
      "17939/17939 [==============================] - 18s 1ms/step - loss: 0.0817 - acc: 0.9727\n"
     ]
    },
    {
     "data": {
      "text/plain": [
       "<tensorflow.python.keras.callbacks.History at 0x2c2f08ea080>"
      ]
     },
     "execution_count": 10,
     "metadata": {},
     "output_type": "execute_result"
    }
   ],
   "source": [
    "model.fit(X_train,Y_train,epochs=10)"
   ]
  },
  {
   "cell_type": "code",
   "execution_count": 11,
   "metadata": {},
   "outputs": [
    {
     "name": "stdout",
     "output_type": "stream",
     "text": [
      "4485/4485 [==============================] - 1s 170us/step\n",
      "Split Test accuracy:  0.9562987737033678\n",
      "[5.3638212e-07 9.2711758e-09 4.5054414e-09 5.7342178e-12 1.9262947e-07\n",
      " 6.2749600e-06 1.8760378e-06 1.5507429e-10 1.0744471e-03 9.9891663e-01]\n",
      "9 : 9\n"
     ]
    }
   ],
   "source": [
    "test_loss,test_acc = model.evaluate(X_test,Y_test)\n",
    "print('Split Test accuracy: ',test_acc)\n",
    "predictions = model.predict(X_test)\n",
    "print(predictions[0])\n",
    "print(np.argmax(predictions[0]), ':',Y_test[0])"
   ]
  },
  {
   "cell_type": "code",
   "execution_count": 12,
   "metadata": {},
   "outputs": [],
   "source": [
    "from sklearn import metrics\n",
    "import time\n",
    "import cv2\n",
    "import glob"
   ]
  },
  {
   "cell_type": "code",
   "execution_count": null,
   "metadata": {
    "scrolled": true
   },
   "outputs": [],
   "source": [
    "def matrix(row,col,imgs):\n",
    "    a = row*col\n",
    "    vector_newX = np.zeros((a, 1))\n",
    "    imgSeq = []\n",
    "    for img in imgs :\n",
    "        image = cv2.imread(img,cv2.IMREAD_GRAYSCALE)/255\n",
    "        imgSeq.append(img.split('img_')[1].split('.jpg')[0])\n",
    "        img0 = cv2.resize(image,(row,col))\n",
    "        flat = img0.reshape(a,1)\n",
    "        vector_newX = np.c_[vector_newX,flat]\n",
    "        print(img)\n",
    "    vector_newX = vector_newX.T\n",
    "    finalX_train = vector_newX[1:,:]\n",
    "    print('size of feature martix is:',np.shape(finalX_train))\n",
    "    return  finalX_train,imgSeq\n",
    "testimgs = glob.glob(r\"D:/athira/Courses/MS WPI/Fall'19/ML/Project_Distracted Driver Detection/Data/imgs/test 500/*.jpg\")\n",
    "combined_train,imgSeq = matrix(row,col,testimgs)"
   ]
  },
  {
   "cell_type": "code",
   "execution_count": 14,
   "metadata": {
    "scrolled": true
   },
   "outputs": [
    {
     "name": "stdout",
     "output_type": "stream",
     "text": [
      "530\n",
      "['c5' 'c5' 'c0' 'c0' 'c8' 'c2' 'c0' 'c0' 'c8' 'c8' 'c8' 'c0' 'c0' 'c2'\n",
      " 'c7' 'c8' 'c8' 'c2' 'c5' 'c8' 'c6' 'c4' 'c6' 'c8' 'c4' 'c7' 'c5' 'c8'\n",
      " 'c0' 'c7' 'c5' 'c4' 'c0' 'c0' 'c9' 'c5' 'c0' 'c9' 'c4' 'c3' 'c2' 'c8'\n",
      " 'c7' 'c8' 'c6' 'c5' 'c7' 'c5' 'c8' 'c2' 'c8' 'c8' 'c5' 'c0' 'c4' 'c8'\n",
      " 'c7' 'c7' 'c0' 'c4' 'c8' 'c7' 'c7' 'c8' 'c6' 'c7' 'c5' 'c9' 'c7' 'c6'\n",
      " 'c1' 'c5' 'c8' 'c4' 'c0' 'c7' 'c5' 'c7' 'c8' 'c8' 'c7' 'c6' 'c8' 'c3'\n",
      " 'c7' 'c7' 'c7' 'c5' 'c4' 'c2' 'c2' 'c7' 'c5' 'c3' 'c8' 'c6' 'c7' 'c8'\n",
      " 'c1' 'c0' 'c4' 'c6' 'c7' 'c4' 'c5' 'c7' 'c4' 'c8' 'c0' 'c6' 'c4' 'c7'\n",
      " 'c7' 'c7' 'c1' 'c5' 'c4' 'c4' 'c7' 'c8' 'c8' 'c4' 'c4' 'c8' 'c0' 'c4'\n",
      " 'c7' 'c5' 'c7' 'c4' 'c2' 'c7' 'c7' 'c6' 'c6' 'c6' 'c7' 'c7' 'c2' 'c4'\n",
      " 'c5' 'c4' 'c5' 'c8' 'c6' 'c7' 'c4' 'c8' 'c7' 'c2' 'c7' 'c5' 'c7' 'c6'\n",
      " 'c7' 'c0' 'c8' 'c6' 'c7' 'c0' 'c6' 'c7' 'c5' 'c7' 'c8' 'c8' 'c7' 'c8'\n",
      " 'c7' 'c1' 'c2' 'c1' 'c1' 'c2' 'c7' 'c8' 'c4' 'c7' 'c9' 'c5' 'c8' 'c2'\n",
      " 'c5' 'c8' 'c0' 'c0' 'c4' 'c5' 'c6' 'c0' 'c2' 'c3' 'c8' 'c4' 'c2' 'c7'\n",
      " 'c5' 'c0' 'c6' 'c8' 'c2' 'c8' 'c7' 'c5' 'c7' 'c4' 'c7' 'c6' 'c4' 'c2'\n",
      " 'c7' 'c9' 'c0' 'c4' 'c2' 'c8' 'c8' 'c7' 'c9' 'c7' 'c2' 'c5' 'c7' 'c7'\n",
      " 'c8' 'c5' 'c0' 'c7' 'c8' 'c5' 'c8' 'c1' 'c0' 'c0' 'c7' 'c7' 'c4' 'c5'\n",
      " 'c8' 'c2' 'c2' 'c8' 'c4' 'c8' 'c7' 'c4' 'c7' 'c4' 'c4' 'c5' 'c0' 'c5'\n",
      " 'c4' 'c5' 'c7' 'c8' 'c7' 'c8' 'c0' 'c0' 'c0' 'c7' 'c5' 'c0' 'c8' 'c1'\n",
      " 'c6' 'c8' 'c6' 'c5' 'c6' 'c6' 'c6' 'c8' 'c7' 'c9' 'c8' 'c7' 'c2' 'c5'\n",
      " 'c7' 'c6' 'c8' 'c8' 'c6' 'c4' 'c2' 'c4' 'c8' 'c7' 'c7' 'c8' 'c5' 'c5'\n",
      " 'c8' 'c0' 'c8' 'c6' 'c3' 'c8' 'c8' 'c7' 'c8' 'c5' 'c7' 'c8' 'c5' 'c5'\n",
      " 'c7' 'c7' 'c0' 'c1' 'c4' 'c8' 'c8' 'c6' 'c4' 'c8' 'c4' 'c5' 'c4' 'c8'\n",
      " 'c2' 'c4' 'c9' 'c8' 'c5' 'c4' 'c8' 'c8' 'c5' 'c5' 'c8' 'c0' 'c1' 'c3'\n",
      " 'c9' 'c7' 'c8' 'c2' 'c5' 'c4' 'c8' 'c5' 'c8' 'c7' 'c8' 'c8' 'c0' 'c7'\n",
      " 'c6' 'c4' 'c4' 'c8' 'c5' 'c5' 'c8' 'c6' 'c8' 'c8' 'c4' 'c7' 'c4' 'c8'\n",
      " 'c7' 'c6' 'c8' 'c5' 'c5' 'c7' 'c2' 'c8' 'c7' 'c4' 'c7' 'c0' 'c7' 'c1'\n",
      " 'c0' 'c9' 'c5' 'c7' 'c7' 'c3' 'c2' 'c2' 'c5' 'c7' 'c9' 'c5' 'c7' 'c7'\n",
      " 'c8' 'c5' 'c3' 'c7' 'c2' 'c4' 'c7' 'c8' 'c7' 'c7' 'c8' 'c5' 'c6' 'c8'\n",
      " 'c5' 'c8' 'c1' 'c9' 'c5' 'c5' 'c4' 'c6' 'c8' 'c4' 'c4' 'c6' 'c7' 'c9'\n",
      " 'c7' 'c8' 'c4' 'c8' 'c6' 'c7' 'c9' 'c9' 'c7' 'c8' 'c8' 'c2' 'c8' 'c7'\n",
      " 'c8' 'c6' 'c8' 'c4' 'c5' 'c6' 'c4' 'c7' 'c8' 'c5' 'c5' 'c8' 'c6' 'c6'\n",
      " 'c7' 'c2' 'c0' 'c5' 'c7' 'c0' 'c9' 'c5' 'c9' 'c7' 'c7' 'c0' 'c7' 'c1'\n",
      " 'c7' 'c7' 'c8' 'c4' 'c8' 'c5' 'c6' 'c5' 'c5' 'c7' 'c0' 'c8' 'c5' 'c7'\n",
      " 'c8' 'c8' 'c8' 'c3' 'c7' 'c6' 'c0' 'c9' 'c5' 'c0' 'c8' 'c8' 'c2' 'c8'\n",
      " 'c5' 'c6' 'c4' 'c8' 'c0' 'c8' 'c0' 'c9' 'c2' 'c7' 'c4' 'c6' 'c1' 'c8'\n",
      " 'c1' 'c7' 'c1' 'c9' 'c4' 'c3' 'c5' 'c7' 'c1' 'c8' 'c7' 'c0' 'c7' 'c5'\n",
      " 'c7' 'c1' 'c4' 'c5' 'c7' 'c4' 'c7' 'c7' 'c8' 'c1' 'c7' 'c5']\n",
      "   Unnamed: 0  image label RandomForest_Gray NeuralNet_Gray\n",
      "0           0      1    c5                c5               \n",
      "1           1      2    c2                c9               \n",
      "2           2      3    c4                c1               \n",
      "3           3      4    c6                c1               \n",
      "4           4      7    c3                c2               \n",
      "5           5      8    c3                c7               \n",
      "6           6      9    c5                c5               \n",
      "7           7     10    c5                c0               \n",
      "8           8     11    c1                c1               \n",
      "9           9     12    c1                c5               \n",
      "   Unnamed: 0  image label RandomForest_Gray NeuralNet_Gray\n",
      "0           0      1    c5                c5             c5\n",
      "1           1      2    c2                c9             c7\n",
      "2           2      3    c4                c1             c1\n",
      "3           3      4    c6                c1             c0\n",
      "4           4      7    c3                c2             c1\n",
      "5           5      8    c3                c7             c7\n",
      "6           6      9    c5                c5             c5\n",
      "7           7     10    c5                c0             c5\n",
      "8           8     11    c1                c1             c8\n",
      "9           9     12    c1                c5             c2\n",
      "191 Images classified correctly out of  530 images\n",
      "General Accuracy:  36.0377358490566\n"
     ]
    }
   ],
   "source": [
    "General_prediction = model.predict(combined_train)\n",
    "Y_pred_case = np.empty(General_prediction.shape[0],dtype=object)\n",
    "print(len(General_prediction))\n",
    "for i in range(len(General_prediction)):\n",
    "    l = np.argmax(General_prediction[i])\n",
    "    Y_pred_case[i] = 'c'+ str(l)\n",
    "print(Y_pred_case)\n",
    "imgLabel = pd.read_csv(\"D:/athira/Courses/MS WPI/Fall'19/ML/Project_Distracted Driver Detection/Data/imgs/test 500/ImageLabels.csv\")\n",
    "imgLabel[\"NeuralNet_Gray\"]=''\n",
    "print(imgLabel.head(10))\n",
    "correct=0\n",
    "for i,val in enumerate(imgSeq):\n",
    "    imgLabel.loc[imgLabel[\"image\"]==int(val),\"NeuralNet_Gray\"]=Y_pred_case[i]\n",
    "    if (Y_pred_case[i] in str(imgLabel.loc[imgLabel[\"image\"]==int(val)][\"label\"])):\n",
    "        correct = correct+1\n",
    "print(imgLabel.head(10))\n",
    "total = len(imgSeq)\n",
    "genAcc = (correct/total) *100\n",
    "print(correct, \"Images classified correctly out of \",total, \"images\")\n",
    "print(\"General Accuracy: \",genAcc)\n",
    "imgLabel.to_csv(\"D:/athira/Courses/MS WPI/Fall'19/ML/Project_Distracted Driver Detection/Data/imgs/test 500/ImageLabels1.csv\",index=False)\n",
    "#41/120 correct"
   ]
  },
  {
   "cell_type": "code",
   "execution_count": null,
   "metadata": {},
   "outputs": [],
   "source": []
  }
 ],
 "metadata": {
  "kernelspec": {
   "display_name": "Python 3.8.13 ('ann')",
   "language": "python",
   "name": "python3"
  },
  "language_info": {
   "codemirror_mode": {
    "name": "ipython",
    "version": 3
   },
   "file_extension": ".py",
   "mimetype": "text/x-python",
   "name": "python",
   "nbconvert_exporter": "python",
   "pygments_lexer": "ipython3",
   "version": "3.8.13 (default, Mar 28 2022, 06:59:08) [MSC v.1916 64 bit (AMD64)]"
  },
  "vscode": {
   "interpreter": {
    "hash": "ca7b67b39378463754b83a9e60c9434df669468f98bd2773c2b0ae41f63a0954"
   }
  }
 },
 "nbformat": 4,
 "nbformat_minor": 2
}
